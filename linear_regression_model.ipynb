{
  "nbformat": 4,
  "nbformat_minor": 0,
  "metadata": {
    "colab": {
      "provenance": [],
      "authorship_tag": "ABX9TyO2FIwaTaOvhcOSbeSvgMhL",
      "include_colab_link": true
    },
    "kernelspec": {
      "name": "python3",
      "display_name": "Python 3"
    },
    "language_info": {
      "name": "python"
    }
  },
  "cells": [
    {
      "cell_type": "markdown",
      "metadata": {
        "id": "view-in-github",
        "colab_type": "text"
      },
      "source": [
        "<a href=\"https://colab.research.google.com/github/LSShrivathsan/soil-moisture-analysis/blob/main/linear_regression_model.ipynb\" target=\"_parent\"><img src=\"https://colab.research.google.com/assets/colab-badge.svg\" alt=\"Open In Colab\"/></a>"
      ]
    },
    {
      "cell_type": "code",
      "source": [
        "import numpy as np\n",
        "import pandas as pd\n",
        "from sklearn.model_selection import train_test_split\n",
        "from sklearn.linear_model import LinearRegression\n",
        "from sklearn.metrics import mean_squared_error, r2_score\n",
        "\n",
        "# Load the dataset\n",
        "data = pd.read_csv('optimal_dataset.csv')\n",
        "\n",
        "# Extract features (temperature and humidity) and target (soil moisture)\n",
        "X = data[['Temperature (°C)', 'Humidity (%)']]\n",
        "y = data['Soil Moisture (%)']\n",
        "\n",
        "# Split the dataset into training and testing sets\n",
        "X_train, X_test, y_train, y_test = train_test_split(X, y, test_size=0.2, random_state=42)\n",
        "\n",
        "# Create and train a linear regression model\n",
        "model = LinearRegression()\n",
        "model.fit(X_train, y_train)\n",
        "\n",
        "# Make predictions on the test data\n",
        "y_pred = model.predict(X_test)\n",
        "\n",
        "# Evaluate the model's performance using metrics\n",
        "mse = mean_squared_error(y_test, y_pred)\n",
        "r2 = r2_score(y_test, y_pred)\n",
        "print(f'Mean Squared Error: {mse}')\n",
        "print(f'R-squared: {r2}')\n",
        "\n",
        "# Soil moisture decision thresholds\n",
        "irrigationThreshold = 40\n",
        "drainageThreshold = 60\n",
        "\n",
        "# Iterate through each prediction and make a decision\n",
        "for i in range(len(y_pred)):\n",
        "    if y_pred[i] < irrigationThreshold:\n",
        "        print(f\"Data Point {i+1}: Decision - Irrigate the soil\")\n",
        "    elif y_pred[i] > drainageThreshold:\n",
        "        print(f\"Data Point {i+1}: Decision - Drain the soil\")\n",
        "    else:\n",
        "        print(f\"Data Point {i+1}: Decision - Soil moisture is optimal\")\n"
      ],
      "metadata": {
        "colab": {
          "base_uri": "https://localhost:8080/"
        },
        "id": "RuIp7gHgkf_t",
        "outputId": "e84a385d-bf74-4b70-d72a-9c1a26077a1f"
      },
      "execution_count": null,
      "outputs": [
        {
          "output_type": "stream",
          "name": "stdout",
          "text": [
            "Mean Squared Error: 5.19628691049874\n",
            "R-squared: 0.12578565463234015\n",
            "Data Point 1: Decision - Soil moisture is optimal\n",
            "Data Point 2: Decision - Soil moisture is optimal\n",
            "Data Point 3: Decision - Irrigate the soil\n",
            "Data Point 4: Decision - Soil moisture is optimal\n",
            "Data Point 5: Decision - Irrigate the soil\n",
            "Data Point 6: Decision - Soil moisture is optimal\n",
            "Data Point 7: Decision - Soil moisture is optimal\n",
            "Data Point 8: Decision - Irrigate the soil\n",
            "Data Point 9: Decision - Soil moisture is optimal\n",
            "Data Point 10: Decision - Irrigate the soil\n",
            "Data Point 11: Decision - Soil moisture is optimal\n",
            "Data Point 12: Decision - Soil moisture is optimal\n",
            "Data Point 13: Decision - Soil moisture is optimal\n",
            "Data Point 14: Decision - Soil moisture is optimal\n",
            "Data Point 15: Decision - Soil moisture is optimal\n",
            "Data Point 16: Decision - Soil moisture is optimal\n",
            "Data Point 17: Decision - Soil moisture is optimal\n",
            "Data Point 18: Decision - Soil moisture is optimal\n",
            "Data Point 19: Decision - Irrigate the soil\n",
            "Data Point 20: Decision - Soil moisture is optimal\n"
          ]
        }
      ]
    }
  ]
}