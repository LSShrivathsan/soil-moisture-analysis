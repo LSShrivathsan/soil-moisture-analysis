{
  "cells": [
    {
      "cell_type": "markdown",
      "metadata": {
        "id": "view-in-github",
        "colab_type": "text"
      },
      "source": [
        "<a href=\"https://colab.research.google.com/github/LSShrivathsan/soil-moisture-analysis/blob/main/randomregressormodel.ipynb\" target=\"_parent\"><img src=\"https://colab.research.google.com/assets/colab-badge.svg\" alt=\"Open In Colab\"/></a>"
      ]
    },
    {
      "cell_type": "code",
      "execution_count": null,
      "metadata": {
        "id": "DMlMMPIgb1WK"
      },
      "outputs": [],
      "source": [
        "import numpy as np\n",
        "import pandas as pd\n",
        "\n",
        "# Set a random seed for reproducibility\n",
        "np.random.seed(0)\n",
        "\n",
        "# Define the number of data points\n",
        "num_samples = 100\n",
        "\n",
        "# Generate synthetic data for three different scenarios\n",
        "# 1. Irrigation Dataset\n",
        "temperature_irrigation = np.random.uniform(15, 25, num_samples)  # Lower temperature\n",
        "humidity_irrigation = np.random.uniform(40, 60, num_samples)       # Lower humidity\n",
        "soil_moisture_irrigation = 30 - 0.1 * temperature_irrigation + 0.2 * humidity_irrigation + np.random.normal(0, 2, num_samples)\n",
        "irrigation_data = pd.DataFrame({'Temperature (°C)': temperature_irrigation,\n",
        "                                'Humidity (%)': humidity_irrigation,\n",
        "                                'Soil Moisture (%)': soil_moisture_irrigation})\n",
        "\n",
        "# 2. Drainage Dataset\n",
        "temperature_drainage = np.random.uniform(20, 30, num_samples)  # Higher temperature\n",
        "humidity_drainage = np.random.uniform(70, 80, num_samples)     # Higher humidity\n",
        "soil_moisture_drainage = 30 - 0.1 * temperature_drainage + 0.2 * humidity_drainage + np.random.normal(0, 2, num_samples)\n",
        "drainage_data = pd.DataFrame({'Temperature (°C)': temperature_drainage,\n",
        "                              'Humidity (%)': humidity_drainage,\n",
        "                              'Soil Moisture (%)': soil_moisture_drainage})\n",
        "\n",
        "# 3. Optimal Soil Moisture Dataset\n",
        "temperature_optimal = np.random.uniform(20, 25, num_samples)  # Moderate temperature\n",
        "humidity_optimal = np.random.uniform(60, 70, num_samples)     # Moderate humidity\n",
        "soil_moisture_optimal = 30 - 0.1 * temperature_optimal + 0.2 * humidity_optimal + np.random.normal(0, 2, num_samples)\n",
        "optimal_data = pd.DataFrame({'Temperature (°C)': temperature_optimal,\n",
        "                             'Humidity (%)': humidity_optimal,\n",
        "                             'Soil Moisture (%)': soil_moisture_optimal})\n",
        "\n",
        "# Save the datasets to CSV files\n",
        "irrigation_data.to_csv('irrigation_dataset.csv', index=False)\n",
        "drainage_data.to_csv('drainage_dataset.csv', index=False)\n",
        "optimal_data.to_csv('optimal_dataset.csv', index=False)"
      ]
    },
    {
      "cell_type": "code",
      "source": [
        "import numpy as np\n",
        "import pandas as pd\n",
        "from sklearn.model_selection import train_test_split, GridSearchCV\n",
        "from sklearn.ensemble import RandomForestRegressor\n",
        "from sklearn.metrics import mean_squared_error, r2_score\n",
        "\n",
        "# Loading the dataset\n",
        "data = pd.read_csv('irrigation_dataset.csv')\n",
        "\n",
        "# Extracting features & target -soil moisture\n",
        "X = data[['Temperature (°C)', 'Humidity (%)']]\n",
        "y = data['Soil Moisture (%)']\n",
        "\n",
        "# Spliting the dataset into training and testing sets\n",
        "X_train, X_test, y_train, y_test = train_test_split(X, y, test_size=0.2, random_state=42)\n",
        "\n",
        "param_grid = {\n",
        "    'n_estimators': [50, 100, 200],\n",
        "    'max_depth': [None, 10, 20, 30],\n",
        "    'min_samples_split': [2, 5, 10],\n",
        "    'min_samples_leaf': [1, 2, 4]\n",
        "}\n",
        "\n",
        "# Random Forest Regressor model\n",
        "rf_model = RandomForestRegressor(random_state=42)\n",
        "\n",
        "# Performing grid search with cross-validation to find the best hyperparameters\n",
        "grid_search = GridSearchCV(estimator=rf_model, param_grid=param_grid, cv=5, scoring='neg_mean_squared_error', n_jobs=-1)\n",
        "grid_search.fit(X_train, y_train)\n",
        "\n",
        "# Getting the best hyperparameters from the grid search\n",
        "best_params = grid_search.best_params_\n",
        "print(f'Best Hyperparameters: {best_params}')\n",
        "\n",
        "# Training the model with the best hyperparameters\n",
        "best_rf_model = RandomForestRegressor(random_state=42, **best_params)\n",
        "best_rf_model.fit(X_train, y_train)\n",
        "\n",
        "# predictions on the test data using the best model\n",
        "y_rf_pred = best_rf_model.predict(X_test)\n",
        "\n",
        "# Evaluate the best model's performance using metrics\n",
        "mse_rf = mean_squared_error(y_test, y_rf_pred)\n",
        "r2_rf = r2_score(y_test, y_rf_pred)\n",
        "print(f'Random Forest Mean Squared Error: {mse_rf}')\n",
        "print(f'Random Forest R-squared: {r2_rf}')\n",
        "\n",
        "irrigationThreshold = 40  # Soil moisture decision thresholds\n",
        "drainageThreshold = 60\n",
        "\n",
        "# Iterating through each prediction and make a decision\n",
        "for i in range(len(y_rf_pred)):\n",
        "    if y_rf_pred[i] < irrigationThreshold:\n",
        "        print(f\"Data Point {i+1}: Decision - Irrigate the soil\")\n",
        "    elif y_rf_pred[i] > drainageThreshold:\n",
        "        print(f\"Data Point {i+1}: Decision - Drain the soil\")\n",
        "    else:\n",
        "        print(f\"Data Point {i+1}: Decision - Soil moisture is optimal\")"
      ],
      "metadata": {
        "colab": {
          "base_uri": "https://localhost:8080/"
        },
        "id": "UImQWvLZYAMO",
        "outputId": "1d2d22af-c2ee-40b3-9809-cb68af4a0d10"
      },
      "execution_count": null,
      "outputs": [
        {
          "output_type": "stream",
          "name": "stdout",
          "text": [
            "Best Hyperparameters: {'max_depth': 10, 'min_samples_leaf': 1, 'min_samples_split': 10, 'n_estimators': 50}\n",
            "Random Forest Mean Squared Error: 4.422253526439638\n",
            "Random Forest R-squared: -0.4349272488397533\n",
            "Data Point 1: Decision - Irrigate the soil\n",
            "Data Point 2: Decision - Irrigate the soil\n",
            "Data Point 3: Decision - Irrigate the soil\n",
            "Data Point 4: Decision - Soil moisture is optimal\n",
            "Data Point 5: Decision - Soil moisture is optimal\n",
            "Data Point 6: Decision - Soil moisture is optimal\n",
            "Data Point 7: Decision - Irrigate the soil\n",
            "Data Point 8: Decision - Irrigate the soil\n",
            "Data Point 9: Decision - Irrigate the soil\n",
            "Data Point 10: Decision - Irrigate the soil\n",
            "Data Point 11: Decision - Irrigate the soil\n",
            "Data Point 12: Decision - Irrigate the soil\n",
            "Data Point 13: Decision - Irrigate the soil\n",
            "Data Point 14: Decision - Irrigate the soil\n",
            "Data Point 15: Decision - Irrigate the soil\n",
            "Data Point 16: Decision - Irrigate the soil\n",
            "Data Point 17: Decision - Irrigate the soil\n",
            "Data Point 18: Decision - Soil moisture is optimal\n",
            "Data Point 19: Decision - Irrigate the soil\n",
            "Data Point 20: Decision - Irrigate the soil\n"
          ]
        }
      ]
    }
  ],
  "metadata": {
    "colab": {
      "provenance": [],
      "authorship_tag": "ABX9TyOSJqYNpd2Rle/xqdNujE8L",
      "include_colab_link": true
    },
    "kernelspec": {
      "display_name": "Python 3",
      "name": "python3"
    },
    "language_info": {
      "name": "python"
    }
  },
  "nbformat": 4,
  "nbformat_minor": 0
}